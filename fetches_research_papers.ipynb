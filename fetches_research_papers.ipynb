{
  "nbformat": 4,
  "nbformat_minor": 0,
  "metadata": {
    "colab": {
      "provenance": [],
      "authorship_tag": "ABX9TyPREOX/gGbSAkx+aOPayZHm",
      "include_colab_link": true
    },
    "kernelspec": {
      "name": "python3",
      "display_name": "Python 3"
    },
    "language_info": {
      "name": "python"
    }
  },
  "cells": [
    {
      "cell_type": "markdown",
      "metadata": {
        "id": "view-in-github",
        "colab_type": "text"
      },
      "source": [
        "<a href=\"https://colab.research.google.com/github/harshaguntuku/fetches-research-papers/blob/main/fetches_research_papers.ipynb\" target=\"_parent\"><img src=\"https://colab.research.google.com/assets/colab-badge.svg\" alt=\"Open In Colab\"/></a>"
      ]
    },
    {
      "cell_type": "code",
      "source": [
        "import requests\n",
        "import csv\n",
        "import re\n",
        "from typing import List, Dict, Any, Optional\n",
        "\n",
        "def fetch_pubmed_papers(query: str) -> List[Dict[str, Any]]:\n",
        "    \"\"\"\n",
        "    Fetch research papers from PubMed based on a query.\n",
        "    \"\"\"\n",
        "    base_url = \"https://eutils.ncbi.nlm.nih.gov/entrez/eutils/esearch.fcgi\"\n",
        "    params = {\n",
        "        \"db\": \"pubmed\",\n",
        "        \"term\": query,\n",
        "        \"retmode\": \"json\",\n",
        "        \"retmax\": 10  # Adjust the number of results as needed\n",
        "    }\n",
        "    response = requests.get(base_url, params=params)\n",
        "    response.raise_for_status()\n",
        "    data = response.json()\n",
        "    pmids = data.get(\"esearchresult\", {}).get(\"idlist\", [])\n",
        "    return fetch_paper_details(pmids)\n",
        "\n",
        "def fetch_paper_details(pmids: List[str]) -> List[Dict[str, Any]]:\n",
        "    \"\"\"\n",
        "    Fetch detailed information for a list of PubMed IDs.\n",
        "    \"\"\"\n",
        "    if not pmids:\n",
        "        return []\n",
        "\n",
        "    details_url = \"https://eutils.ncbi.nlm.nih.gov/entrez/eutils/esummary.fcgi\"\n",
        "    params = {\n",
        "        \"db\": \"pubmed\",\n",
        "        \"id\": \",\".join(pmids),\n",
        "        \"retmode\": \"json\"\n",
        "    }\n",
        "    response = requests.get(details_url, params=params)\n",
        "    response.raise_for_status()\n",
        "    details_data = response.json()\n",
        "    return parse_paper_details(details_data)\n",
        "\n",
        "def parse_paper_details(data: Dict[str, Any]) -> List[Dict[str, Any]]:\n",
        "    \"\"\"\n",
        "    Extract relevant paper details from PubMed API response.\n",
        "    \"\"\"\n",
        "    papers = []\n",
        "    for pmid, details in data.get(\"result\", {}).items():\n",
        "        if pmid == \"uids\":\n",
        "            continue\n",
        "\n",
        "        title = details.get(\"title\", \"N/A\")\n",
        "        pub_date = details.get(\"pubdate\", \"N/A\")\n",
        "        authors = details.get(\"authors\", [])\n",
        "\n",
        "        non_academic_authors, company_affiliations, corresponding_email = identify_non_academic_authors(authors)\n",
        "\n",
        "        papers.append({\n",
        "            \"PubmedID\": pmid,\n",
        "            \"Title\": title,\n",
        "            \"Publication Date\": pub_date,\n",
        "            \"Non-academic Author(s)\": \", \".join(non_academic_authors),\n",
        "            \"Company Affiliation(s)\": \", \".join(company_affiliations),\n",
        "            \"Corresponding Author Email\": corresponding_email\n",
        "        })\n",
        "    return papers\n",
        "\n",
        "def save_to_csv(papers: List[Dict[str, Any]], filename: str):\n",
        "    \"\"\"\n",
        "    Save fetched papers to a CSV file.\n",
        "    \"\"\"\n",
        "    if not papers:\n",
        "        print(\"No papers found.\")\n",
        "        return\n",
        "\n",
        "    with open(filename, mode='w', newline='', encoding='utf-8') as file:\n",
        "        writer = csv.DictWriter(file, fieldnames=papers[0].keys())\n",
        "        writer.writeheader()\n",
        "        writer.writerows(papers)\n",
        "    print(f\"Results saved to {filename}\")\n",
        "\n",
        "def main():\n",
        "  # Manually specify the search query\n",
        "  query = \"cancer treatment biotech\"\n",
        "\n",
        "# Fetch research papers\n",
        "  papers = fetch_pubmed_papers(query)\n",
        "\n",
        "# Save to CSV in Colab's filesystem\n",
        "  csv_filename = \"pubmed_results.csv\"\n",
        "  save_to_csv(papers, csv_filename)\n",
        "\n",
        "# Download the CSV file\n",
        "  from google.colab import files\n",
        "  files.download(csv_filename)\n",
        "main()"
      ],
      "metadata": {
        "colab": {
          "base_uri": "https://localhost:8080/",
          "height": 34
        },
        "id": "hv_3VQgfE1Uy",
        "outputId": "ed623001-e42f-43d8-d49a-7e41f456297a"
      },
      "execution_count": 24,
      "outputs": [
        {
          "output_type": "stream",
          "name": "stdout",
          "text": [
            "Results saved to pubmed_results.csv\n"
          ]
        },
        {
          "output_type": "display_data",
          "data": {
            "text/plain": [
              "<IPython.core.display.Javascript object>"
            ],
            "application/javascript": [
              "\n",
              "    async function download(id, filename, size) {\n",
              "      if (!google.colab.kernel.accessAllowed) {\n",
              "        return;\n",
              "      }\n",
              "      const div = document.createElement('div');\n",
              "      const label = document.createElement('label');\n",
              "      label.textContent = `Downloading \"${filename}\": `;\n",
              "      div.appendChild(label);\n",
              "      const progress = document.createElement('progress');\n",
              "      progress.max = size;\n",
              "      div.appendChild(progress);\n",
              "      document.body.appendChild(div);\n",
              "\n",
              "      const buffers = [];\n",
              "      let downloaded = 0;\n",
              "\n",
              "      const channel = await google.colab.kernel.comms.open(id);\n",
              "      // Send a message to notify the kernel that we're ready.\n",
              "      channel.send({})\n",
              "\n",
              "      for await (const message of channel.messages) {\n",
              "        // Send a message to notify the kernel that we're ready.\n",
              "        channel.send({})\n",
              "        if (message.buffers) {\n",
              "          for (const buffer of message.buffers) {\n",
              "            buffers.push(buffer);\n",
              "            downloaded += buffer.byteLength;\n",
              "            progress.value = downloaded;\n",
              "          }\n",
              "        }\n",
              "      }\n",
              "      const blob = new Blob(buffers, {type: 'application/binary'});\n",
              "      const a = document.createElement('a');\n",
              "      a.href = window.URL.createObjectURL(blob);\n",
              "      a.download = filename;\n",
              "      div.appendChild(a);\n",
              "      a.click();\n",
              "      div.remove();\n",
              "    }\n",
              "  "
            ]
          },
          "metadata": {}
        },
        {
          "output_type": "display_data",
          "data": {
            "text/plain": [
              "<IPython.core.display.Javascript object>"
            ],
            "application/javascript": [
              "download(\"download_d3a57f0a-00d3-494c-ac7f-b10745816013\", \"pubmed_results.csv\", 1650)"
            ]
          },
          "metadata": {}
        }
      ]
    }
  ]
}